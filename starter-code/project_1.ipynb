{
 "cells": [
  {
   "cell_type": "markdown",
   "metadata": {},
   "source": [
    "# Project 1\n",
    "\n",
    "## Step 1: Open the `sat_scores.csv` file. Investigate the data, and answer the questions below.\n"
   ]
  },
  {
   "cell_type": "markdown",
   "metadata": {},
   "source": [
    "##### 1. What does the data describe?"
   ]
  },
  {
   "cell_type": "markdown",
   "metadata": {},
   "source": []
  },
  {
   "cell_type": "markdown",
   "metadata": {},
   "source": [
    "##### 2. Does the data look complete? Are there any obvious issues with the observations?"
   ]
  },
  {
   "cell_type": "markdown",
   "metadata": {},
   "source": []
  },
  {
   "cell_type": "markdown",
   "metadata": {},
   "source": [
    "##### 3. Create a data dictionary for the dataset."
   ]
  },
  {
   "cell_type": "markdown",
   "metadata": {
    "collapsed": true
   },
   "source": []
  },
  {
   "cell_type": "markdown",
   "metadata": {},
   "source": [
    "## Step 2: Load the data."
   ]
  },
  {
   "cell_type": "markdown",
   "metadata": {},
   "source": [
    "##### 4. Load the data into a list of lists"
   ]
  },
  {
   "cell_type": "code",
   "execution_count": 1,
   "metadata": {
    "collapsed": false
   },
   "outputs": [
    {
     "name": "stdout",
     "output_type": "stream",
     "text": [
      "/home/jovyan/work/dsi/dsi-workspace/project-01_sk/starter-code\r\n"
     ]
    }
   ],
   "source": [
    "!pwd"
   ]
  },
  {
   "cell_type": "code",
   "execution_count": 2,
   "metadata": {
    "collapsed": false
   },
   "outputs": [],
   "source": [
    "import csv\n",
    "# opening a csv file\n",
    "file = \"../assets/sat_scores.csv\"\n",
    "sat_data = []\n",
    "with open(file,'r') as f:\n",
    "    reader = csv.reader(f)\n",
    "    for row in reader:\n",
    "        sat_data.append(row)"
   ]
  },
  {
   "cell_type": "markdown",
   "metadata": {},
   "source": [
    "##### 5. Print the data"
   ]
  },
  {
   "cell_type": "code",
   "execution_count": 3,
   "metadata": {
    "collapsed": false
   },
   "outputs": [
    {
     "data": {
      "text/plain": [
       "[['State', 'Rate', 'Verbal', 'Math'],\n",
       " ['CT', '82', '509', '510'],\n",
       " ['NJ', '81', '499', '513'],\n",
       " ['MA', '79', '511', '515'],\n",
       " ['NY', '77', '495', '505'],\n",
       " ['NH', '72', '520', '516'],\n",
       " ['RI', '71', '501', '499'],\n",
       " ['PA', '71', '500', '499'],\n",
       " ['VT', '69', '511', '506'],\n",
       " ['ME', '69', '506', '500'],\n",
       " ['VA', '68', '510', '501'],\n",
       " ['DE', '67', '501', '499'],\n",
       " ['MD', '65', '508', '510'],\n",
       " ['NC', '65', '493', '499'],\n",
       " ['GA', '63', '491', '489'],\n",
       " ['IN', '60', '499', '501'],\n",
       " ['SC', '57', '486', '488'],\n",
       " ['DC', '56', '482', '474'],\n",
       " ['OR', '55', '526', '526'],\n",
       " ['FL', '54', '498', '499'],\n",
       " ['WA', '53', '527', '527'],\n",
       " ['TX', '53', '493', '499'],\n",
       " ['HI', '52', '485', '515'],\n",
       " ['AK', '51', '514', '510'],\n",
       " ['CA', '51', '498', '517'],\n",
       " ['AZ', '34', '523', '525'],\n",
       " ['NV', '33', '509', '515'],\n",
       " ['CO', '31', '539', '542'],\n",
       " ['OH', '26', '534', '439'],\n",
       " ['MT', '23', '539', '539'],\n",
       " ['WV', '18', '527', '512'],\n",
       " ['ID', '17', '543', '542'],\n",
       " ['TN', '13', '562', '553'],\n",
       " ['NM', '13', '551', '542'],\n",
       " ['IL', '12', '576', '589'],\n",
       " ['KY', '12', '550', '550'],\n",
       " ['WY', '11', '547', '545'],\n",
       " ['MI', '11', '561', '572'],\n",
       " ['MN', '9', '580', '589'],\n",
       " ['KS', '9', '577', '580'],\n",
       " ['AL', '9', '559', '554'],\n",
       " ['NE', '8', '562', '568'],\n",
       " ['OK', '8', '567', '561'],\n",
       " ['MO', '8', '577', '577'],\n",
       " ['LA', '7', '564', '562'],\n",
       " ['WI', '6', '584', '596'],\n",
       " ['AR', '6', '562', '550'],\n",
       " ['UT', '5', '575', '570'],\n",
       " ['IA', '5', '593', '603'],\n",
       " ['SD', '4', '577', '582'],\n",
       " ['ND', '4', '592', '599'],\n",
       " ['MS', '4', '566', '551'],\n",
       " ['All', '45', '506', '514']]"
      ]
     },
     "execution_count": 3,
     "metadata": {},
     "output_type": "execute_result"
    }
   ],
   "source": [
    "sat_data"
   ]
  },
  {
   "cell_type": "markdown",
   "metadata": {
    "collapsed": true
   },
   "source": [
    "##### 6. Extract a list of the labels from the data, and remove them from the data."
   ]
  },
  {
   "cell_type": "code",
   "execution_count": 4,
   "metadata": {
    "collapsed": false
   },
   "outputs": [],
   "source": [
    "# extract the header row\n",
    "labels = sat_data[0]\n",
    "sat_data = sat_data[1:]\n"
   ]
  },
  {
   "cell_type": "code",
   "execution_count": 5,
   "metadata": {
    "collapsed": false
   },
   "outputs": [
    {
     "data": {
      "text/plain": [
       "['State', 'Rate', 'Verbal', 'Math']"
      ]
     },
     "execution_count": 5,
     "metadata": {},
     "output_type": "execute_result"
    }
   ],
   "source": [
    "labels"
   ]
  },
  {
   "cell_type": "markdown",
   "metadata": {},
   "source": [
    "##### 7. Create a list of State names extracted from the data. (Hint: use the list of labels to index on the State column)"
   ]
  },
  {
   "cell_type": "code",
   "execution_count": 6,
   "metadata": {
    "collapsed": false
   },
   "outputs": [],
   "source": [
    "# first split the row on commas and then get unique values for state to create stat names\n",
    "# create a list of state names split on commas\n",
    "state_names = []\n",
    "for row in sat_data:\n",
    "    state_names.append(row[0])"
   ]
  },
  {
   "cell_type": "markdown",
   "metadata": {},
   "source": [
    "##### 8. Print the types of each column"
   ]
  },
  {
   "cell_type": "code",
   "execution_count": 7,
   "metadata": {
    "collapsed": false
   },
   "outputs": [
    {
     "name": "stdout",
     "output_type": "stream",
     "text": [
      "<type 'str'>\n",
      "<type 'str'>\n",
      "<type 'str'>\n",
      "<type 'str'>\n"
     ]
    }
   ],
   "source": [
    "for row in sat_data[0]:\n",
    "    print type(row[0])"
   ]
  },
  {
   "cell_type": "markdown",
   "metadata": {},
   "source": [
    "##### 9. Do any types need to be reassigned? If so, go ahead and do it."
   ]
  },
  {
   "cell_type": "code",
   "execution_count": 8,
   "metadata": {
    "collapsed": false
   },
   "outputs": [],
   "source": [
    "# looking at the labels: Rate, verbal, math should be of numeric type and should be converted to float\n",
    "converted_sat_data = []\n",
    "for row in sat_data:\n",
    "    new_row = []\n",
    "    for i, col in enumerate(row):\n",
    "        # do not change data type for state\n",
    "        if i == 0:\n",
    "            new_row.append(col)\n",
    "        # change for all other three columns\n",
    "        else:\n",
    "            new_row.append(float(col))\n",
    "    converted_sat_data.append(new_row)"
   ]
  },
  {
   "cell_type": "code",
   "execution_count": 9,
   "metadata": {
    "collapsed": false
   },
   "outputs": [
    {
     "data": {
      "text/plain": [
       "[['CT', 82.0, 509.0, 510.0],\n",
       " ['NJ', 81.0, 499.0, 513.0],\n",
       " ['MA', 79.0, 511.0, 515.0],\n",
       " ['NY', 77.0, 495.0, 505.0],\n",
       " ['NH', 72.0, 520.0, 516.0],\n",
       " ['RI', 71.0, 501.0, 499.0],\n",
       " ['PA', 71.0, 500.0, 499.0],\n",
       " ['VT', 69.0, 511.0, 506.0],\n",
       " ['ME', 69.0, 506.0, 500.0],\n",
       " ['VA', 68.0, 510.0, 501.0],\n",
       " ['DE', 67.0, 501.0, 499.0],\n",
       " ['MD', 65.0, 508.0, 510.0],\n",
       " ['NC', 65.0, 493.0, 499.0],\n",
       " ['GA', 63.0, 491.0, 489.0],\n",
       " ['IN', 60.0, 499.0, 501.0],\n",
       " ['SC', 57.0, 486.0, 488.0],\n",
       " ['DC', 56.0, 482.0, 474.0],\n",
       " ['OR', 55.0, 526.0, 526.0],\n",
       " ['FL', 54.0, 498.0, 499.0],\n",
       " ['WA', 53.0, 527.0, 527.0],\n",
       " ['TX', 53.0, 493.0, 499.0],\n",
       " ['HI', 52.0, 485.0, 515.0],\n",
       " ['AK', 51.0, 514.0, 510.0],\n",
       " ['CA', 51.0, 498.0, 517.0],\n",
       " ['AZ', 34.0, 523.0, 525.0],\n",
       " ['NV', 33.0, 509.0, 515.0],\n",
       " ['CO', 31.0, 539.0, 542.0],\n",
       " ['OH', 26.0, 534.0, 439.0],\n",
       " ['MT', 23.0, 539.0, 539.0],\n",
       " ['WV', 18.0, 527.0, 512.0],\n",
       " ['ID', 17.0, 543.0, 542.0],\n",
       " ['TN', 13.0, 562.0, 553.0],\n",
       " ['NM', 13.0, 551.0, 542.0],\n",
       " ['IL', 12.0, 576.0, 589.0],\n",
       " ['KY', 12.0, 550.0, 550.0],\n",
       " ['WY', 11.0, 547.0, 545.0],\n",
       " ['MI', 11.0, 561.0, 572.0],\n",
       " ['MN', 9.0, 580.0, 589.0],\n",
       " ['KS', 9.0, 577.0, 580.0],\n",
       " ['AL', 9.0, 559.0, 554.0],\n",
       " ['NE', 8.0, 562.0, 568.0],\n",
       " ['OK', 8.0, 567.0, 561.0],\n",
       " ['MO', 8.0, 577.0, 577.0],\n",
       " ['LA', 7.0, 564.0, 562.0],\n",
       " ['WI', 6.0, 584.0, 596.0],\n",
       " ['AR', 6.0, 562.0, 550.0],\n",
       " ['UT', 5.0, 575.0, 570.0],\n",
       " ['IA', 5.0, 593.0, 603.0],\n",
       " ['SD', 4.0, 577.0, 582.0],\n",
       " ['ND', 4.0, 592.0, 599.0],\n",
       " ['MS', 4.0, 566.0, 551.0],\n",
       " ['All', 45.0, 506.0, 514.0]]"
      ]
     },
     "execution_count": 9,
     "metadata": {},
     "output_type": "execute_result"
    }
   ],
   "source": [
    "converted_sat_data"
   ]
  },
  {
   "cell_type": "markdown",
   "metadata": {},
   "source": [
    "##### 10. Create a dictionary for each column mapping the State to its respective value for that column. "
   ]
  },
  {
   "cell_type": "code",
   "execution_count": 10,
   "metadata": {
    "collapsed": false
   },
   "outputs": [],
   "source": [
    "state_dict = {}\n",
    "for row in converted_sat_data:\n",
    "    state_score = []\n",
    "    for i, col in enumerate(row):\n",
    "        if i > 0:\n",
    "            state_score.append(col)\n",
    "    state_dict[row[0]] = state_score\n",
    "            "
   ]
  },
  {
   "cell_type": "code",
   "execution_count": 11,
   "metadata": {
    "collapsed": false
   },
   "outputs": [
    {
     "data": {
      "text/plain": [
       "{'AK': [51.0, 514.0, 510.0],\n",
       " 'AL': [9.0, 559.0, 554.0],\n",
       " 'AR': [6.0, 562.0, 550.0],\n",
       " 'AZ': [34.0, 523.0, 525.0],\n",
       " 'All': [45.0, 506.0, 514.0],\n",
       " 'CA': [51.0, 498.0, 517.0],\n",
       " 'CO': [31.0, 539.0, 542.0],\n",
       " 'CT': [82.0, 509.0, 510.0],\n",
       " 'DC': [56.0, 482.0, 474.0],\n",
       " 'DE': [67.0, 501.0, 499.0],\n",
       " 'FL': [54.0, 498.0, 499.0],\n",
       " 'GA': [63.0, 491.0, 489.0],\n",
       " 'HI': [52.0, 485.0, 515.0],\n",
       " 'IA': [5.0, 593.0, 603.0],\n",
       " 'ID': [17.0, 543.0, 542.0],\n",
       " 'IL': [12.0, 576.0, 589.0],\n",
       " 'IN': [60.0, 499.0, 501.0],\n",
       " 'KS': [9.0, 577.0, 580.0],\n",
       " 'KY': [12.0, 550.0, 550.0],\n",
       " 'LA': [7.0, 564.0, 562.0],\n",
       " 'MA': [79.0, 511.0, 515.0],\n",
       " 'MD': [65.0, 508.0, 510.0],\n",
       " 'ME': [69.0, 506.0, 500.0],\n",
       " 'MI': [11.0, 561.0, 572.0],\n",
       " 'MN': [9.0, 580.0, 589.0],\n",
       " 'MO': [8.0, 577.0, 577.0],\n",
       " 'MS': [4.0, 566.0, 551.0],\n",
       " 'MT': [23.0, 539.0, 539.0],\n",
       " 'NC': [65.0, 493.0, 499.0],\n",
       " 'ND': [4.0, 592.0, 599.0],\n",
       " 'NE': [8.0, 562.0, 568.0],\n",
       " 'NH': [72.0, 520.0, 516.0],\n",
       " 'NJ': [81.0, 499.0, 513.0],\n",
       " 'NM': [13.0, 551.0, 542.0],\n",
       " 'NV': [33.0, 509.0, 515.0],\n",
       " 'NY': [77.0, 495.0, 505.0],\n",
       " 'OH': [26.0, 534.0, 439.0],\n",
       " 'OK': [8.0, 567.0, 561.0],\n",
       " 'OR': [55.0, 526.0, 526.0],\n",
       " 'PA': [71.0, 500.0, 499.0],\n",
       " 'RI': [71.0, 501.0, 499.0],\n",
       " 'SC': [57.0, 486.0, 488.0],\n",
       " 'SD': [4.0, 577.0, 582.0],\n",
       " 'TN': [13.0, 562.0, 553.0],\n",
       " 'TX': [53.0, 493.0, 499.0],\n",
       " 'UT': [5.0, 575.0, 570.0],\n",
       " 'VA': [68.0, 510.0, 501.0],\n",
       " 'VT': [69.0, 511.0, 506.0],\n",
       " 'WA': [53.0, 527.0, 527.0],\n",
       " 'WI': [6.0, 584.0, 596.0],\n",
       " 'WV': [18.0, 527.0, 512.0],\n",
       " 'WY': [11.0, 547.0, 545.0]}"
      ]
     },
     "execution_count": 11,
     "metadata": {},
     "output_type": "execute_result"
    }
   ],
   "source": [
    "state_dict"
   ]
  },
  {
   "cell_type": "markdown",
   "metadata": {},
   "source": [
    "##### 11. Create a dictionary with the values for each of the numeric columns"
   ]
  },
  {
   "cell_type": "code",
   "execution_count": 12,
   "metadata": {
    "collapsed": false
   },
   "outputs": [
    {
     "name": "stdout",
     "output_type": "stream",
     "text": [
      "{'Rate': [82.0, 81.0, 79.0, 77.0, 72.0, 71.0, 71.0, 69.0, 69.0, 68.0, 67.0, 65.0, 65.0, 63.0, 60.0, 57.0, 56.0, 55.0, 54.0, 53.0, 53.0, 52.0, 51.0, 51.0, 34.0, 33.0, 31.0, 26.0, 23.0, 18.0, 17.0, 13.0, 13.0, 12.0, 12.0, 11.0, 11.0, 9.0, 9.0, 9.0, 8.0, 8.0, 8.0, 7.0, 6.0, 6.0, 5.0, 5.0, 4.0, 4.0, 4.0, 45.0], 'Math': [510.0, 513.0, 515.0, 505.0, 516.0, 499.0, 499.0, 506.0, 500.0, 501.0, 499.0, 510.0, 499.0, 489.0, 501.0, 488.0, 474.0, 526.0, 499.0, 527.0, 499.0, 515.0, 510.0, 517.0, 525.0, 515.0, 542.0, 439.0, 539.0, 512.0, 542.0, 553.0, 542.0, 589.0, 550.0, 545.0, 572.0, 589.0, 580.0, 554.0, 568.0, 561.0, 577.0, 562.0, 596.0, 550.0, 570.0, 603.0, 582.0, 599.0, 551.0, 514.0], 'Verbal': [509.0, 499.0, 511.0, 495.0, 520.0, 501.0, 500.0, 511.0, 506.0, 510.0, 501.0, 508.0, 493.0, 491.0, 499.0, 486.0, 482.0, 526.0, 498.0, 527.0, 493.0, 485.0, 514.0, 498.0, 523.0, 509.0, 539.0, 534.0, 539.0, 527.0, 543.0, 562.0, 551.0, 576.0, 550.0, 547.0, 561.0, 580.0, 577.0, 559.0, 562.0, 567.0, 577.0, 564.0, 584.0, 562.0, 575.0, 593.0, 577.0, 592.0, 566.0, 506.0]}\n"
     ]
    }
   ],
   "source": [
    "sat_ratings = {}\n",
    "for label in labels[1:]:\n",
    "    sat_ratings[label] = []\n",
    "\n",
    "for row in converted_sat_data:\n",
    "    for i, cell in enumerate(row):\n",
    "        if i > 0:\n",
    "            sat_ratings[labels[i]].append(cell)\n",
    "print sat_ratings"
   ]
  },
  {
   "cell_type": "markdown",
   "metadata": {},
   "source": [
    "## Step 3: Describe the data"
   ]
  },
  {
   "cell_type": "markdown",
   "metadata": {},
   "source": [
    "##### 12. Print the min and max of each column"
   ]
  },
  {
   "cell_type": "code",
   "execution_count": 15,
   "metadata": {
    "collapsed": false
   },
   "outputs": [
    {
     "name": "stdout",
     "output_type": "stream",
     "text": [
      "Rate  Min: 4.0 ,   Max: 82.0\n",
      "Math  Min: 439.0 ,   Max: 603.0\n",
      "Verbal  Min: 482.0 ,   Max: 593.0\n"
     ]
    }
   ],
   "source": [
    "import numpy as np\n",
    "# for each key in a dictionary calculate min and max\n",
    "for key in sat_ratings.keys():\n",
    "    print  key,  \" Min:\",np.min(sat_ratings[key]), \",   Max:\", np.max(sat_ratings[key])    "
   ]
  },
  {
   "cell_type": "markdown",
   "metadata": {},
   "source": [
    "##### 13. Write a function using only list comprehensions, no loops, to compute Standard Deviation. Print the Standard Deviation of each numeric column."
   ]
  },
  {
   "cell_type": "code",
   "execution_count": 21,
   "metadata": {
    "collapsed": false
   },
   "outputs": [
    {
     "name": "stdout",
     "output_type": "stream",
     "text": [
      "[27.037996494523586, 35.666996164305949, 32.915094961603266]\n"
     ]
    }
   ],
   "source": [
    "print [np.std(sat_ratings[rating]) for rating in sat_ratings]"
   ]
  },
  {
   "cell_type": "code",
   "execution_count": 23,
   "metadata": {
    "collapsed": false
   },
   "outputs": [],
   "source": [
    "# the function below will return standard deviation for a given dictionary \n",
    "def compute_standard_Deviation(dict):\n",
    "    return [np.std(dict[rating]) for rating in dict] \n",
    "#print [np.std([rating[key] for rating in sat_ratings]]"
   ]
  },
  {
   "cell_type": "code",
   "execution_count": 35,
   "metadata": {
    "collapsed": false
   },
   "outputs": [
    {
     "data": {
      "text/plain": [
       "[27.037996494523586, 35.666996164305949, 32.915094961603266]"
      ]
     },
     "execution_count": 35,
     "metadata": {},
     "output_type": "execute_result"
    }
   ],
   "source": [
    "# function call\n",
    "compute_standard_Deviation(sat_ratings)"
   ]
  },
  {
   "cell_type": "markdown",
   "metadata": {},
   "source": [
    "## Step 4: Visualize the data"
   ]
  },
  {
   "cell_type": "markdown",
   "metadata": {
    "collapsed": true
   },
   "source": [
    "##### 14. Using MatPlotLib and PyPlot, plot the distribution of the Rate using histograms."
   ]
  },
  {
   "cell_type": "code",
   "execution_count": 41,
   "metadata": {
    "collapsed": false
   },
   "outputs": [
    {
     "name": "stdout",
     "output_type": "stream",
     "text": [
      "[82.0, 81.0, 79.0, 77.0, 72.0, 71.0, 71.0, 69.0, 69.0, 68.0, 67.0, 65.0, 65.0, 63.0, 60.0, 57.0, 56.0, 55.0, 54.0, 53.0, 53.0, 52.0, 51.0, 51.0, 34.0, 33.0, 31.0, 26.0, 23.0, 18.0, 17.0, 13.0, 13.0, 12.0, 12.0, 11.0, 11.0, 9.0, 9.0, 9.0, 8.0, 8.0, 8.0, 7.0, 6.0, 6.0, 5.0, 5.0, 4.0, 4.0, 4.0, 45.0]\n"
     ]
    }
   ],
   "source": [
    "print sat_ratings['Rate']"
   ]
  },
  {
   "cell_type": "code",
   "execution_count": 27,
   "metadata": {
    "collapsed": false
   },
   "outputs": [
    {
     "data": {
      "text/plain": [
       "'numpy version: 1.10.4'"
      ]
     },
     "execution_count": 27,
     "metadata": {},
     "output_type": "execute_result"
    }
   ],
   "source": [
    "import matplotlib.pyplot as plot\n",
    "%matplotlib inline\n",
    "\"numpy version: \" + np.__version__"
   ]
  },
  {
   "cell_type": "code",
   "execution_count": 44,
   "metadata": {
    "collapsed": false,
    "scrolled": false
   },
   "outputs": [
    {
     "data": {
      "image/png": "[encoded data removed]",
      "text/plain": [
       "<matplotlib.figure.Figure at 0x7fec54967f90>"
      ]
     },
     "metadata": {},
     "output_type": "display_data"
    }
   ],
   "source": [
    "rate_histogram = plot.hist(sat_ratings['Rate'],bins=10)"
   ]
  },
  {
   "cell_type": "markdown",
   "metadata": {},
   "source": [
    "##### 15. Plot the Math distribution"
   ]
  },
  {
   "cell_type": "code",
   "execution_count": 45,
   "metadata": {
    "collapsed": false
   },
   "outputs": [
    {
     "data": {
      "image/png": "[encoded data removed]",
      "text/plain": [
       "<matplotlib.figure.Figure at 0x7fec547c9cd0>"
      ]
     },
     "metadata": {},
     "output_type": "display_data"
    }
   ],
   "source": [
    "math_histogram = plot.hist(sat_ratings['Math'],bins=10)"
   ]
  },
  {
   "cell_type": "markdown",
   "metadata": {},
   "source": [
    "##### 16. Plot the Verbal distribution"
   ]
  },
  {
   "cell_type": "code",
   "execution_count": 51,
   "metadata": {
    "collapsed": false
   },
   "outputs": [
    {
     "ename": "AttributeError",
     "evalue": "'tuple' object has no attribute 'set_title'",
     "output_type": "error",
     "traceback": [
      "\u001b[1;31m---------------------------------------------------------------------------\u001b[0m",
      "\u001b[1;31mAttributeError\u001b[0m                            Traceback (most recent call last)",
      "\u001b[1;32m<ipython-input-51-002509ba2650>\u001b[0m in \u001b[0;36m<module>\u001b[1;34m()\u001b[0m\n\u001b[0;32m      1\u001b[0m \u001b[0mverbal_histogram\u001b[0m \u001b[1;33m=\u001b[0m \u001b[0mplot\u001b[0m\u001b[1;33m.\u001b[0m\u001b[0mhist\u001b[0m\u001b[1;33m(\u001b[0m\u001b[0msat_ratings\u001b[0m\u001b[1;33m[\u001b[0m\u001b[1;34m'Verbal'\u001b[0m\u001b[1;33m]\u001b[0m\u001b[1;33m,\u001b[0m\u001b[0mbins\u001b[0m\u001b[1;33m=\u001b[0m\u001b[1;36m10\u001b[0m\u001b[1;33m)\u001b[0m\u001b[1;33m\u001b[0m\u001b[0m\n\u001b[1;32m----> 2\u001b[1;33m \u001b[0mverbal_histogram\u001b[0m\u001b[1;33m.\u001b[0m\u001b[0mset_title\u001b[0m\u001b[1;33m(\u001b[0m\u001b[1;34m'Verbal Histogram'\u001b[0m\u001b[1;33m,\u001b[0m \u001b[0mfontsize\u001b[0m\u001b[1;33m=\u001b[0m\u001b[1;36m20\u001b[0m\u001b[1;33m)\u001b[0m\u001b[1;33m\u001b[0m\u001b[0m\n\u001b[0m",
      "\u001b[1;31mAttributeError\u001b[0m: 'tuple' object has no attribute 'set_title'"
     ]
    },
    {
     "data": {
      "image/png": "[encoded data removed]",
      "text/plain": [
       "<matplotlib.figure.Figure at 0x7fec5442cb50>"
      ]
     },
     "metadata": {},
     "output_type": "display_data"
    }
   ],
   "source": [
    "verbal_histogram = plot.hist(sat_ratings['Verbal'],bins=10)"
   ]
  },
  {
   "cell_type": "markdown",
   "metadata": {},
   "source": [
    "##### 17. What is the typical assumption for data distribution?"
   ]
  },
  {
   "cell_type": "code",
   "execution_count": null,
   "metadata": {
    "collapsed": false
   },
   "outputs": [],
   "source": []
  },
  {
   "cell_type": "markdown",
   "metadata": {},
   "source": [
    "##### 18. Does that distribution hold true for our data?"
   ]
  },
  {
   "cell_type": "code",
   "execution_count": null,
   "metadata": {
    "collapsed": false
   },
   "outputs": [],
   "source": []
  },
  {
   "cell_type": "markdown",
   "metadata": {},
   "source": [
    "##### 19. Plot some scatterplots. **BONUS**: Use a PyPlot `figure` to present multiple plots at once."
   ]
  },
  {
   "cell_type": "code",
   "execution_count": 50,
   "metadata": {
    "collapsed": false
   },
   "outputs": [],
   "source": [
    "//Generate some x-y data for yourself...\n",
    "x=[key for key in my_dict.keys()]\n",
    "y=[imp for imp in my_dict.values()]\n",
    "xlim([min(x),max(x)])\n",
    "ylim([min(y),max(y)])\n",
    "plt.scatter(x,y)"
   ]
  },
  {
   "cell_type": "markdown",
   "metadata": {},
   "source": [
    "##### 20. Are there any interesting relationships to note?"
   ]
  },
  {
   "cell_type": "code",
   "execution_count": null,
   "metadata": {
    "collapsed": false
   },
   "outputs": [],
   "source": []
  },
  {
   "cell_type": "markdown",
   "metadata": {},
   "source": [
    "##### 21. Create box plots for each variable. "
   ]
  },
  {
   "cell_type": "code",
   "execution_count": null,
   "metadata": {
    "collapsed": false
   },
   "outputs": [],
   "source": []
  },
  {
   "cell_type": "markdown",
   "metadata": {},
   "source": [
    "##### BONUS: Using Tableau, create a heat map for each variable using a map of the US. "
   ]
  },
  {
   "cell_type": "code",
   "execution_count": null,
   "metadata": {
    "collapsed": true
   },
   "outputs": [],
   "source": []
  }
 ],
 "metadata": {
  "kernelspec": {
   "display_name": "Python 2",
   "language": "python",
   "name": "python2"
  },
  "language_info": {
   "codemirror_mode": {
    "name": "ipython",
    "version": 2
   },
   "file_extension": ".py",
   "mimetype": "text/x-python",
   "name": "python",
   "nbconvert_exporter": "python",
   "pygments_lexer": "ipython2",
   "version": "2.7.12"
  }
 },
 "nbformat": 4,
 "nbformat_minor": 0
}
